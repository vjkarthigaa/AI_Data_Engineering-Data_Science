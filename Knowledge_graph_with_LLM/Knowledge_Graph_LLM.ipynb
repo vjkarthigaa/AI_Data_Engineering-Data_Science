{
  "nbformat": 4,
  "nbformat_minor": 0,
  "metadata": {
    "colab": {
      "provenance": []
    },
    "kernelspec": {
      "name": "python3",
      "display_name": "Python 3"
    },
    "language_info": {
      "name": "python"
    }
  },
  "cells": [
    {
      "cell_type": "markdown",
      "source": [],
      "metadata": {
        "id": "PA3TX57dLvR3"
      }
    },
    {
      "cell_type": "code",
      "execution_count": null,
      "metadata": {
        "colab": {
          "base_uri": "https://localhost:8080/"
        },
        "id": "qbnI48ChDhdZ",
        "outputId": "9fc0adbc-0148-4954-b428-c077c8b4a0d7"
      },
      "outputs": [
        {
          "output_type": "stream",
          "name": "stdout",
          "text": [
            "Requirement already satisfied: spacy in /usr/local/lib/python3.11/dist-packages (3.8.7)\n",
            "Requirement already satisfied: py2neo in /usr/local/lib/python3.11/dist-packages (2021.2.4)\n",
            "Requirement already satisfied: openai in /usr/local/lib/python3.11/dist-packages (1.86.0)\n",
            "Requirement already satisfied: neo4j in /usr/local/lib/python3.11/dist-packages (5.28.1)\n",
            "Requirement already satisfied: pandas in /usr/local/lib/python3.11/dist-packages (2.2.2)\n",
            "Requirement already satisfied: spacy-legacy<3.1.0,>=3.0.11 in /usr/local/lib/python3.11/dist-packages (from spacy) (3.0.12)\n",
            "Requirement already satisfied: spacy-loggers<2.0.0,>=1.0.0 in /usr/local/lib/python3.11/dist-packages (from spacy) (1.0.5)\n",
            "Requirement already satisfied: murmurhash<1.1.0,>=0.28.0 in /usr/local/lib/python3.11/dist-packages (from spacy) (1.0.13)\n",
            "Requirement already satisfied: cymem<2.1.0,>=2.0.2 in /usr/local/lib/python3.11/dist-packages (from spacy) (2.0.11)\n",
            "Requirement already satisfied: preshed<3.1.0,>=3.0.2 in /usr/local/lib/python3.11/dist-packages (from spacy) (3.0.10)\n",
            "Requirement already satisfied: thinc<8.4.0,>=8.3.4 in /usr/local/lib/python3.11/dist-packages (from spacy) (8.3.6)\n",
            "Requirement already satisfied: wasabi<1.2.0,>=0.9.1 in /usr/local/lib/python3.11/dist-packages (from spacy) (1.1.3)\n",
            "Requirement already satisfied: srsly<3.0.0,>=2.4.3 in /usr/local/lib/python3.11/dist-packages (from spacy) (2.5.1)\n",
            "Requirement already satisfied: catalogue<2.1.0,>=2.0.6 in /usr/local/lib/python3.11/dist-packages (from spacy) (2.0.10)\n",
            "Requirement already satisfied: weasel<0.5.0,>=0.1.0 in /usr/local/lib/python3.11/dist-packages (from spacy) (0.4.1)\n",
            "Requirement already satisfied: typer<1.0.0,>=0.3.0 in /usr/local/lib/python3.11/dist-packages (from spacy) (0.16.0)\n",
            "Requirement already satisfied: tqdm<5.0.0,>=4.38.0 in /usr/local/lib/python3.11/dist-packages (from spacy) (4.67.1)\n",
            "Requirement already satisfied: numpy>=1.19.0 in /usr/local/lib/python3.11/dist-packages (from spacy) (2.0.2)\n",
            "Requirement already satisfied: requests<3.0.0,>=2.13.0 in /usr/local/lib/python3.11/dist-packages (from spacy) (2.32.3)\n",
            "Requirement already satisfied: pydantic!=1.8,!=1.8.1,<3.0.0,>=1.7.4 in /usr/local/lib/python3.11/dist-packages (from spacy) (2.11.7)\n",
            "Requirement already satisfied: jinja2 in /usr/local/lib/python3.11/dist-packages (from spacy) (3.1.6)\n",
            "Requirement already satisfied: setuptools in /usr/local/lib/python3.11/dist-packages (from spacy) (75.2.0)\n",
            "Requirement already satisfied: packaging>=20.0 in /usr/local/lib/python3.11/dist-packages (from spacy) (24.2)\n",
            "Requirement already satisfied: langcodes<4.0.0,>=3.2.0 in /usr/local/lib/python3.11/dist-packages (from spacy) (3.5.0)\n",
            "Requirement already satisfied: certifi in /usr/local/lib/python3.11/dist-packages (from py2neo) (2025.6.15)\n",
            "Requirement already satisfied: interchange~=2021.0.4 in /usr/local/lib/python3.11/dist-packages (from py2neo) (2021.0.4)\n",
            "Requirement already satisfied: monotonic in /usr/local/lib/python3.11/dist-packages (from py2neo) (1.6)\n",
            "Requirement already satisfied: pansi>=2020.7.3 in /usr/local/lib/python3.11/dist-packages (from py2neo) (2024.11.0)\n",
            "Requirement already satisfied: pygments>=2.0.0 in /usr/local/lib/python3.11/dist-packages (from py2neo) (2.19.1)\n",
            "Requirement already satisfied: six>=1.15.0 in /usr/local/lib/python3.11/dist-packages (from py2neo) (1.17.0)\n",
            "Requirement already satisfied: urllib3 in /usr/local/lib/python3.11/dist-packages (from py2neo) (2.4.0)\n",
            "Requirement already satisfied: anyio<5,>=3.5.0 in /usr/local/lib/python3.11/dist-packages (from openai) (4.9.0)\n",
            "Requirement already satisfied: distro<2,>=1.7.0 in /usr/local/lib/python3.11/dist-packages (from openai) (1.9.0)\n",
            "Requirement already satisfied: httpx<1,>=0.23.0 in /usr/local/lib/python3.11/dist-packages (from openai) (0.28.1)\n",
            "Requirement already satisfied: jiter<1,>=0.4.0 in /usr/local/lib/python3.11/dist-packages (from openai) (0.10.0)\n",
            "Requirement already satisfied: sniffio in /usr/local/lib/python3.11/dist-packages (from openai) (1.3.1)\n",
            "Requirement already satisfied: typing-extensions<5,>=4.11 in /usr/local/lib/python3.11/dist-packages (from openai) (4.14.0)\n",
            "Requirement already satisfied: pytz in /usr/local/lib/python3.11/dist-packages (from neo4j) (2025.2)\n",
            "Requirement already satisfied: python-dateutil>=2.8.2 in /usr/local/lib/python3.11/dist-packages (from pandas) (2.9.0.post0)\n",
            "Requirement already satisfied: tzdata>=2022.7 in /usr/local/lib/python3.11/dist-packages (from pandas) (2025.2)\n",
            "Requirement already satisfied: idna>=2.8 in /usr/local/lib/python3.11/dist-packages (from anyio<5,>=3.5.0->openai) (3.10)\n",
            "Requirement already satisfied: httpcore==1.* in /usr/local/lib/python3.11/dist-packages (from httpx<1,>=0.23.0->openai) (1.0.9)\n",
            "Requirement already satisfied: h11>=0.16 in /usr/local/lib/python3.11/dist-packages (from httpcore==1.*->httpx<1,>=0.23.0->openai) (0.16.0)\n",
            "Requirement already satisfied: language-data>=1.2 in /usr/local/lib/python3.11/dist-packages (from langcodes<4.0.0,>=3.2.0->spacy) (1.3.0)\n",
            "Requirement already satisfied: pillow in /usr/local/lib/python3.11/dist-packages (from pansi>=2020.7.3->py2neo) (11.2.1)\n",
            "Requirement already satisfied: annotated-types>=0.6.0 in /usr/local/lib/python3.11/dist-packages (from pydantic!=1.8,!=1.8.1,<3.0.0,>=1.7.4->spacy) (0.7.0)\n",
            "Requirement already satisfied: pydantic-core==2.33.2 in /usr/local/lib/python3.11/dist-packages (from pydantic!=1.8,!=1.8.1,<3.0.0,>=1.7.4->spacy) (2.33.2)\n",
            "Requirement already satisfied: typing-inspection>=0.4.0 in /usr/local/lib/python3.11/dist-packages (from pydantic!=1.8,!=1.8.1,<3.0.0,>=1.7.4->spacy) (0.4.1)\n",
            "Requirement already satisfied: charset-normalizer<4,>=2 in /usr/local/lib/python3.11/dist-packages (from requests<3.0.0,>=2.13.0->spacy) (3.4.2)\n",
            "Requirement already satisfied: blis<1.4.0,>=1.3.0 in /usr/local/lib/python3.11/dist-packages (from thinc<8.4.0,>=8.3.4->spacy) (1.3.0)\n",
            "Requirement already satisfied: confection<1.0.0,>=0.0.1 in /usr/local/lib/python3.11/dist-packages (from thinc<8.4.0,>=8.3.4->spacy) (0.1.5)\n",
            "Requirement already satisfied: click>=8.0.0 in /usr/local/lib/python3.11/dist-packages (from typer<1.0.0,>=0.3.0->spacy) (8.2.1)\n",
            "Requirement already satisfied: shellingham>=1.3.0 in /usr/local/lib/python3.11/dist-packages (from typer<1.0.0,>=0.3.0->spacy) (1.5.4)\n",
            "Requirement already satisfied: rich>=10.11.0 in /usr/local/lib/python3.11/dist-packages (from typer<1.0.0,>=0.3.0->spacy) (13.9.4)\n",
            "Requirement already satisfied: cloudpathlib<1.0.0,>=0.7.0 in /usr/local/lib/python3.11/dist-packages (from weasel<0.5.0,>=0.1.0->spacy) (0.21.1)\n",
            "Requirement already satisfied: smart-open<8.0.0,>=5.2.1 in /usr/local/lib/python3.11/dist-packages (from weasel<0.5.0,>=0.1.0->spacy) (7.1.0)\n",
            "Requirement already satisfied: MarkupSafe>=2.0 in /usr/local/lib/python3.11/dist-packages (from jinja2->spacy) (3.0.2)\n",
            "Requirement already satisfied: marisa-trie>=1.1.0 in /usr/local/lib/python3.11/dist-packages (from language-data>=1.2->langcodes<4.0.0,>=3.2.0->spacy) (1.2.1)\n",
            "Requirement already satisfied: markdown-it-py>=2.2.0 in /usr/local/lib/python3.11/dist-packages (from rich>=10.11.0->typer<1.0.0,>=0.3.0->spacy) (3.0.0)\n",
            "Requirement already satisfied: wrapt in /usr/local/lib/python3.11/dist-packages (from smart-open<8.0.0,>=5.2.1->weasel<0.5.0,>=0.1.0->spacy) (1.17.2)\n",
            "Requirement already satisfied: mdurl~=0.1 in /usr/local/lib/python3.11/dist-packages (from markdown-it-py>=2.2.0->rich>=10.11.0->typer<1.0.0,>=0.3.0->spacy) (0.1.2)\n",
            "Collecting en-core-web-sm==3.8.0\n",
            "  Downloading https://github.com/explosion/spacy-models/releases/download/en_core_web_sm-3.8.0/en_core_web_sm-3.8.0-py3-none-any.whl (12.8 MB)\n",
            "\u001b[2K     \u001b[90m━━━━━━━━━━━━━━━━━━━━━━━━━━━━━━━━━━━━━━━━\u001b[0m \u001b[32m12.8/12.8 MB\u001b[0m \u001b[31m42.1 MB/s\u001b[0m eta \u001b[36m0:00:00\u001b[0m\n",
            "\u001b[?25h\u001b[38;5;2m✔ Download and installation successful\u001b[0m\n",
            "You can now load the package via spacy.load('en_core_web_sm')\n",
            "\u001b[38;5;3m⚠ Restart to reload dependencies\u001b[0m\n",
            "If you are in a Jupyter or Colab notebook, you may need to restart Python in\n",
            "order to load all the package's dependencies. You can do this by selecting the\n",
            "'Restart kernel' or 'Restart runtime' option.\n"
          ]
        }
      ],
      "source": [
        "!pip install spacy py2neo openai neo4j pandas\n",
        "!python -m spacy download en_core_web_sm\n"
      ]
    },
    {
      "cell_type": "code",
      "source": [
        "import requests\n",
        "from bs4 import BeautifulSoup\n",
        "\n",
        "url = \"https://timesofindia.indiatimes.com/news\"  # Replace with a real article\n",
        "html = requests.get(url).text\n",
        "soup = BeautifulSoup(html, 'html.parser')\n",
        "article_text = \" \".join([p.text for p in soup.find_all('p')])\n",
        "\n",
        "print(article_text[:1000])  # Preview\n"
      ],
      "metadata": {
        "id": "imOzEZNuFVap",
        "outputId": "3144b426-ed69-4330-e402-296c625a31f9",
        "colab": {
          "base_uri": "https://localhost:8080/"
        }
      },
      "execution_count": null,
      "outputs": [
        {
          "output_type": "stream",
          "name": "stdout",
          "text": [
            " 'Killed not because they knew physics but ... ': Israel kills 14 Iran scientists Israel has openly acknowledged its military campaign targeting Iran's nuclear program, which involved the assassination of at least 14 senior Iranian nuclear scientists. According to Israeli officials, these individuals were directly involved in the creation and production of nuclear weapons.  Who won the war - Iran, Israel or US? The battle of Middle East dominance Amidst a week of intense exchanges between Iran and Israel, with the US acting as both aggressor and mediator, a fragile equilibrium has emerged. While missiles flew and bases were targeted, all parties are claiming victory, signaling a desire to de-escalate and avoid further conflict. Despite the heavy costs and ongoing tensions, a path towards diplomacy is cautiously being explored.  'Shared husband’s live location': Telangana man murdered by bride’s lover A 32-year-old land surveyor from Gadwal was murdered by hired killers, allegedly orche\n"
          ]
        }
      ]
    },
    {
      "cell_type": "code",
      "source": [
        "import spacy\n",
        "nlp = spacy.load(\"en_core_web_sm\")\n",
        "doc = nlp(article_text)\n",
        "\n",
        "entities = [(ent.text, ent.label_) for ent in doc.ents]\n",
        "print(entities)\n"
      ],
      "metadata": {
        "colab": {
          "base_uri": "https://localhost:8080/"
        },
        "id": "_OBI_71VTfc8",
        "outputId": "0bad840b-f03d-4e77-aa1d-f6911ab0f06f"
      },
      "execution_count": null,
      "outputs": [
        {
          "output_type": "stream",
          "name": "stdout",
          "text": [
            "[('Israel', 'GPE'), ('14', 'CARDINAL'), ('Iran', 'GPE'), ('Israel', 'GPE'), ('Iran', 'GPE'), ('at least 14', 'CARDINAL'), ('Iranian', 'NORP'), ('Israeli', 'NORP'), ('Iran', 'GPE'), ('Israel', 'GPE'), ('US', 'GPE'), ('Middle East', 'LOC'), ('a week', 'DATE'), ('Iran', 'GPE'), ('Israel', 'GPE'), ('US', 'GPE'), ('Shared', 'PRODUCT'), ('Telangana', 'GPE'), ('32-year-old', 'DATE'), ('Gadwal', 'GPE'), ('four', 'CARDINAL'), ('three', 'CARDINAL'), ('Nightmare', 'ORG'), ('Yashasvi', 'PERSON'), ('Gambhir', 'ORG'), ('first', 'ORDINAL'), ('Test against England', 'EVENT'), ('Yashasvi Jaiswal', 'PERSON'), ('KL Rahul', 'PERSON'), ('Rishabh Pant', 'PERSON'), ('India', 'GPE'), ('371', 'CARDINAL'), ('first', 'ORDINAL'), ('Indian', 'NORP'), ('two centuries', 'DATE'), ('New US Visa', 'ORG'), ('US', 'GPE'), ('India', 'GPE'), ('F, M', 'PRODUCT'), ('U.S.', 'GPE'), ('U.S.', 'GPE'), ('Mera', 'PERSON'), (\"Rishabh Pant's\", 'PERSON'), ('Jadeja', 'GPE'), (\"Rishabh Pant's\", 'PERSON'), ('first', 'ORDINAL'), ('Diljit Dosanjh', 'PERSON'), ('Canada', 'GPE'), ('Toronto Metropolitan University', 'ORG'), (\"Diljit Dosanjh's\", 'PERSON'), ('Toronto Metropolitan University', 'ORG'), ('late 2026', 'DATE'), ('Pakistani', 'NORP'), ('Indian', 'NORP'), ('Amazon', 'ORG'), (\"Andy Jassy's\", 'PERSON'), ('AI', 'GPE'), ('Amazon', 'ORG'), ('Andy Jassy', 'PERSON'), ('AI', 'GPE'), ('AI', 'GPE'), ('AI', 'ORG'), ('Congress', 'ORG'), ('BJP', 'ORG'), ('Gujarat', 'GPE'), ('Congress', 'ORG'), ('Supriya Shrinate', 'PERSON'), ('BJP', 'ORG'), ('Gujarat Smart City', 'GPE'), ('Surat', 'NORP'), ('Over 400 mm', 'QUANTITY'), ('36 hours', 'TIME'), ('daily', 'DATE'), ('IMD', 'ORG'), ('Gujarat', 'GPE'), ('Rajasthan', 'GPE'), ('Rajasthan', 'GPE'), ('England', 'GPE'), ('first', 'ORDINAL'), ('the India versus England Test', 'ORG'), ('Zak Crawley', 'PERSON'), (\"Mohammed Siraj's\", 'PERSON'), ('India', 'GPE'), ('England', 'GPE'), ('Ben Duckett', 'PERSON'), ('Zak Crawley', 'PERSON'), ('117', 'CARDINAL'), ('Bumrah', 'PERSON'), ('England', 'GPE'), ('117/0', 'DATE'), ('254', 'CARDINAL'), ('US', 'GPE'), ('Iran', 'GPE'), ('Phoebe Gates', 'PERSON'), ('Bill Gates', 'PERSON'), ('Phia', 'PERSON'), ('Sophia Kianni', 'PERSON'), ('AI', 'GPE'), ('second', 'ORDINAL'), ('Bill Gates', 'PERSON'), ('Phoebe', 'GPE'), ('Trump', 'PERSON'), ('Trump', 'ORG'), ('Youth', 'ORG'), ('Raipur', 'PERSON'), ('Raipur', 'PERSON'), ('Ankit Upadhyay', 'ORG'), ('Delhi', 'GPE'), ('Iran', 'GPE'), ('Russia', 'GPE'), ('US', 'GPE'), ('Trump', 'ORG'), ('India', 'GPE'), ('Israel', 'GPE'), ('Iran', 'GPE'), ('US', 'GPE'), ('Donald Trump', 'PERSON'), ('Israel', 'GPE'), ('Iran', 'GPE'), ('Dwyane Wade’s', 'PERSON'), ('Instagram', 'ORG'), ('Kaavia James', 'PERSON'), ('Dwyane Wade', 'PERSON'), ('Gabrielle Union', 'ORG'), ('six-year-old', 'DATE'), ('Bollywood', 'ORG'), ('Jhumka', 'PERSON'), ('Telangana', 'GPE'), ('Jeedimetla', 'GPE'), ('39-year-old', 'DATE'), ('Shiva', 'PERSON'), ('Instagram', 'ORG'), ('Shiva', 'ORG'), ('Blake Lively', 'PERSON'), ('Taylor Swift', 'PERSON'), ('Blake Lively', 'PERSON'), ('Taylor Swift', 'PERSON'), ('Lively', 'PERSON'), ('Swift', 'PERSON'), (\"Justin Baldoni's\", 'PERSON'), ('Swift', 'ORG'), ('Lively', 'PERSON'), ('Travis Kelce supports', 'PERSON'), ('Swift', 'PERSON'), ('James Harden', 'PERSON'), ('Houston party', 'ORG'), ('Clippersstarnamed James Harden', 'PERSON'), ('Harris County', 'GPE'), ('Texas', 'GPE'), ('New Year’s Eve', 'EVENT'), ('Marisa Watley', 'PERSON'), ('Harden', 'GPE'), ('Harden', 'GPE'), ('Harden', 'GPE'), ('Israel', 'GPE'), ('Trump', 'ORG'), ('Iran Following', 'FAC'), ('Israel', 'GPE'), ('Iran', 'GPE'), ('US', 'GPE'), ('Donald Trump', 'PERSON'), ('Israel', 'GPE'), ('Plane Wave', 'WORK_OF_ART'), ('Iran', 'GPE'), ('Israel', 'GPE'), ('Iranian', 'NORP'), ('dialogue &amp', 'ORG'), ('India', 'GPE'), ('Israel &amp', 'ORG'), ('Iran', 'GPE'), ('India', 'GPE'), ('Israel', 'GPE'), ('Iran', 'GPE'), ('The Ministry of External Affairs', 'ORG'), ('the United States', 'GPE'), ('Qatar', 'GPE'), ('India', 'GPE'), ('DGCA', 'NORP'), ('DGCA', 'NORP'), ('India', 'GPE'), ('DGCA', 'ORG'), ('seven days', 'DATE'), ('Jammu-Srinagar', 'PERSON'), ('Jammu', 'GPE'), ('Kashmir', 'LOC'), ('Centre', 'GPE'), ('the Singhpora-Vailoo', 'FAC'), ('Sudhmahadev-Dranga', 'PERSON'), ('the Jammu-Srinagar NH', 'ORG'), ('the Mughal Road', 'ORG'), ('Bigg Boss', 'PERSON'), ('Sana Khan', 'PERSON'), ('Sana Khan', 'PERSON'), ('Bigg Boss', 'PERSON'), ('Saeeda', 'PERSON'), ('Sana', 'PERSON'), ('2020', 'DATE'), ('Trump', 'PERSON'), ('Israel', 'GPE'), ('Iran', 'GPE'), ('Donald Trump', 'PERSON'), ('Israel', 'GPE'), ('Iran', 'GPE'), ('Israel', 'GPE'), ('Iran', 'GPE'), ('Trump', 'ORG'), ('Brandon Aiyuk', 'ORG'), ('49ers', 'CARDINAL'), (\"Percs' Brandon Aiyuk\", 'ORG'), ('the San Francisco 49ers', 'FAC'), ('YouTube', 'GPE'), ('$120 million', 'MONEY'), ('49ers', 'CARDINAL'), ('Mohammad', 'PERSON'), ('Krishna', 'PERSON'), ('Gill', 'PERSON'), ('Shubman Gill', 'PERSON'), ('Mohammed Siraj', 'PERSON'), ('Prasidh Krishna', 'FAC'), ('Day 5', 'DATE'), ('first', 'ORDINAL'), ('England', 'GPE'), ('371', 'CARDINAL'), ('117', 'CARDINAL'), ('Gill', 'PERSON'), (\"Dilip Doshi's\", 'PERSON'), ('254', 'CARDINAL'), ('Udaipur', 'PERSON'), ('French', 'NORP'), ('FIR', 'ORG'), ('Udaipur', 'PERSON'), ('Tiger Hill', 'LOC'), ('French', 'NORP'), ('The Greek Farm', 'ORG'), ('Siddharth', 'PERSON'), ('Amitabh Bachchan’s', 'PERSON'), ('Jalsa', 'NORP'), ('Sara', 'PERSON'), ('Aditya', 'PERSON'), ('Kartik', 'PERSON'), ('Esha Gupta', 'PERSON'), ('Sajid Khan  Aishwarya Rai Bachchan’s', 'PERSON'), ('Virat', 'NORP'), ('Govinda', 'NORP'), ('5', 'CARDINAL'), ('Darsheel Safary', 'ORG'), (\"Sitaare Zameen Par'\", 'WORK_OF_ART'), ('Qantas Airways', 'ORG'), ('15 hours', 'TIME'), ('Middle East', 'LOC'), ('Hindalco', 'ORG'), ('US', 'GPE'), ('AluChem', 'ORG'), ('$125 million', 'MONEY'), ('1 million tonnes', 'QUANTITY'), ('KPIT Technologies', 'ORG'), ('52-week', 'DATE'), ('April', 'DATE'), ('Rupee', 'ORG'), ('five years', 'DATE'), ('73', 'CARDINAL'), ('86.05 vs dollar', 'MONEY'), ('Iran', 'GPE'), ('Israel', 'GPE'), ('Indian', 'NORP'), ('103 year old', 'DATE'), ('Just 1%', 'PERCENT'), ('two', 'CARDINAL'), ('IND', 'ORG'), ('India', 'GPE'), ('six', 'CARDINAL'), ('Headingley  IND vs ENG: History', 'ORG'), ('Ben Duckett', 'PERSON'), (\"Alastair Cook's\", 'PERSON'), ('Nightmare', 'ORG'), ('Yashasvi', 'PERSON'), ('Gambhir', 'ORG'), ('Mera', 'PERSON'), ('Pant', 'PERSON'), ('Jadeja  Tensions', 'ORG'), ('England', 'GPE'), ('Mohammad', 'PERSON'), ('Krishna', 'PERSON'), ('Gill', 'PERSON'), ('Shoaib Ibrahim', 'PERSON'), ('Dipika Kakar', 'PERSON'), ('Ruhaan’s', 'PERSON'), ('2nd', 'ORDINAL'), ('Ronit Roy', 'PERSON'), ('Kyunki Saas Bhi Kabhi Bahu Thi', 'PERSON'), ('2', 'CARDINAL'), ('Ram Kapoor', 'PERSON'), ('Neena Gupta', 'ORG'), ('Abhishek Kumar', 'PERSON'), ('Krushna Abhishek', 'ORG'), ('tumne bola', 'PERSON'), ('Archana Puran', 'PERSON'), ('Singh', 'PERSON'), ('Mohabbatein', 'PERSON'), ('Yash Raj’s', 'PERSON'), ('Switzerland', 'GPE'), ('The Great Indian Kapil Show 3', 'WORK_OF_ART'), ('Kapil Sharma', 'PERSON'), ('Navjot Singh Sidhu', 'PERSON')]\n"
          ]
        }
      ]
    },
    {
      "cell_type": "code",
      "source": [
        "triples = []\n",
        "for ent in doc.ents:\n",
        "    if ent.label_ in ['PERSON', 'ORG', 'GPE']:\n",
        "        triples.append((\"News_Article\", f\"has_{ent.label_}\", ent.text))\n",
        "print(triples)\n",
        "\n",
        "# Example: ('News_Article', 'has_PERSON', 'Sundar Pichai')\n"
      ],
      "metadata": {
        "colab": {
          "base_uri": "https://localhost:8080/"
        },
        "id": "I97XnriJT4aO",
        "outputId": "b3c6181a-1afb-454b-e5e2-c3dc01152724"
      },
      "execution_count": null,
      "outputs": [
        {
          "output_type": "stream",
          "name": "stdout",
          "text": [
            "[('News_Article', 'has_GPE', 'Israel'), ('News_Article', 'has_GPE', 'Iran'), ('News_Article', 'has_GPE', 'Israel'), ('News_Article', 'has_GPE', 'Iran'), ('News_Article', 'has_GPE', 'Iran'), ('News_Article', 'has_GPE', 'Israel'), ('News_Article', 'has_GPE', 'US'), ('News_Article', 'has_GPE', 'Iran'), ('News_Article', 'has_GPE', 'Israel'), ('News_Article', 'has_GPE', 'US'), ('News_Article', 'has_GPE', 'Telangana'), ('News_Article', 'has_GPE', 'Gadwal'), ('News_Article', 'has_ORG', 'Nightmare'), ('News_Article', 'has_PERSON', 'Yashasvi'), ('News_Article', 'has_ORG', 'Gambhir'), ('News_Article', 'has_PERSON', 'Yashasvi Jaiswal'), ('News_Article', 'has_PERSON', 'KL Rahul'), ('News_Article', 'has_PERSON', 'Rishabh Pant'), ('News_Article', 'has_GPE', 'India'), ('News_Article', 'has_ORG', 'New US Visa'), ('News_Article', 'has_GPE', 'US'), ('News_Article', 'has_GPE', 'India'), ('News_Article', 'has_GPE', 'U.S.'), ('News_Article', 'has_GPE', 'U.S.'), ('News_Article', 'has_PERSON', 'Mera'), ('News_Article', 'has_PERSON', \"Rishabh Pant's\"), ('News_Article', 'has_GPE', 'Jadeja'), ('News_Article', 'has_PERSON', \"Rishabh Pant's\"), ('News_Article', 'has_PERSON', 'Diljit Dosanjh'), ('News_Article', 'has_GPE', 'Canada'), ('News_Article', 'has_ORG', 'Toronto Metropolitan University'), ('News_Article', 'has_PERSON', \"Diljit Dosanjh's\"), ('News_Article', 'has_ORG', 'Toronto Metropolitan University'), ('News_Article', 'has_ORG', 'Amazon'), ('News_Article', 'has_PERSON', \"Andy Jassy's\"), ('News_Article', 'has_GPE', 'AI'), ('News_Article', 'has_ORG', 'Amazon'), ('News_Article', 'has_PERSON', 'Andy Jassy'), ('News_Article', 'has_GPE', 'AI'), ('News_Article', 'has_GPE', 'AI'), ('News_Article', 'has_ORG', 'AI'), ('News_Article', 'has_ORG', 'Congress'), ('News_Article', 'has_ORG', 'BJP'), ('News_Article', 'has_GPE', 'Gujarat'), ('News_Article', 'has_ORG', 'Congress'), ('News_Article', 'has_PERSON', 'Supriya Shrinate'), ('News_Article', 'has_ORG', 'BJP'), ('News_Article', 'has_GPE', 'Gujarat Smart City'), ('News_Article', 'has_ORG', 'IMD'), ('News_Article', 'has_GPE', 'Gujarat'), ('News_Article', 'has_GPE', 'Rajasthan'), ('News_Article', 'has_GPE', 'Rajasthan'), ('News_Article', 'has_GPE', 'England'), ('News_Article', 'has_ORG', 'the India versus England Test'), ('News_Article', 'has_PERSON', 'Zak Crawley'), ('News_Article', 'has_PERSON', \"Mohammed Siraj's\"), ('News_Article', 'has_GPE', 'India'), ('News_Article', 'has_GPE', 'England'), ('News_Article', 'has_PERSON', 'Ben Duckett'), ('News_Article', 'has_PERSON', 'Zak Crawley'), ('News_Article', 'has_PERSON', 'Bumrah'), ('News_Article', 'has_GPE', 'England'), ('News_Article', 'has_GPE', 'US'), ('News_Article', 'has_GPE', 'Iran'), ('News_Article', 'has_PERSON', 'Phoebe Gates'), ('News_Article', 'has_PERSON', 'Bill Gates'), ('News_Article', 'has_PERSON', 'Phia'), ('News_Article', 'has_PERSON', 'Sophia Kianni'), ('News_Article', 'has_GPE', 'AI'), ('News_Article', 'has_PERSON', 'Bill Gates'), ('News_Article', 'has_GPE', 'Phoebe'), ('News_Article', 'has_PERSON', 'Trump'), ('News_Article', 'has_ORG', 'Trump'), ('News_Article', 'has_ORG', 'Youth'), ('News_Article', 'has_PERSON', 'Raipur'), ('News_Article', 'has_PERSON', 'Raipur'), ('News_Article', 'has_ORG', 'Ankit Upadhyay'), ('News_Article', 'has_GPE', 'Delhi'), ('News_Article', 'has_GPE', 'Iran'), ('News_Article', 'has_GPE', 'Russia'), ('News_Article', 'has_GPE', 'US'), ('News_Article', 'has_ORG', 'Trump'), ('News_Article', 'has_GPE', 'India'), ('News_Article', 'has_GPE', 'Israel'), ('News_Article', 'has_GPE', 'Iran'), ('News_Article', 'has_GPE', 'US'), ('News_Article', 'has_PERSON', 'Donald Trump'), ('News_Article', 'has_GPE', 'Israel'), ('News_Article', 'has_GPE', 'Iran'), ('News_Article', 'has_PERSON', 'Dwyane Wade’s'), ('News_Article', 'has_ORG', 'Instagram'), ('News_Article', 'has_PERSON', 'Kaavia James'), ('News_Article', 'has_PERSON', 'Dwyane Wade'), ('News_Article', 'has_ORG', 'Gabrielle Union'), ('News_Article', 'has_ORG', 'Bollywood'), ('News_Article', 'has_PERSON', 'Jhumka'), ('News_Article', 'has_GPE', 'Telangana'), ('News_Article', 'has_GPE', 'Jeedimetla'), ('News_Article', 'has_PERSON', 'Shiva'), ('News_Article', 'has_ORG', 'Instagram'), ('News_Article', 'has_ORG', 'Shiva'), ('News_Article', 'has_PERSON', 'Blake Lively'), ('News_Article', 'has_PERSON', 'Taylor Swift'), ('News_Article', 'has_PERSON', 'Blake Lively'), ('News_Article', 'has_PERSON', 'Taylor Swift'), ('News_Article', 'has_PERSON', 'Lively'), ('News_Article', 'has_PERSON', 'Swift'), ('News_Article', 'has_PERSON', \"Justin Baldoni's\"), ('News_Article', 'has_ORG', 'Swift'), ('News_Article', 'has_PERSON', 'Lively'), ('News_Article', 'has_PERSON', 'Travis Kelce supports'), ('News_Article', 'has_PERSON', 'Swift'), ('News_Article', 'has_PERSON', 'James Harden'), ('News_Article', 'has_ORG', 'Houston party'), ('News_Article', 'has_PERSON', 'Clippersstarnamed James Harden'), ('News_Article', 'has_GPE', 'Harris County'), ('News_Article', 'has_GPE', 'Texas'), ('News_Article', 'has_PERSON', 'Marisa Watley'), ('News_Article', 'has_GPE', 'Harden'), ('News_Article', 'has_GPE', 'Harden'), ('News_Article', 'has_GPE', 'Harden'), ('News_Article', 'has_GPE', 'Israel'), ('News_Article', 'has_ORG', 'Trump'), ('News_Article', 'has_GPE', 'Israel'), ('News_Article', 'has_GPE', 'Iran'), ('News_Article', 'has_GPE', 'US'), ('News_Article', 'has_PERSON', 'Donald Trump'), ('News_Article', 'has_GPE', 'Israel'), ('News_Article', 'has_GPE', 'Iran'), ('News_Article', 'has_GPE', 'Israel'), ('News_Article', 'has_ORG', 'dialogue &amp'), ('News_Article', 'has_GPE', 'India'), ('News_Article', 'has_ORG', 'Israel &amp'), ('News_Article', 'has_GPE', 'Iran'), ('News_Article', 'has_GPE', 'India'), ('News_Article', 'has_GPE', 'Israel'), ('News_Article', 'has_GPE', 'Iran'), ('News_Article', 'has_ORG', 'The Ministry of External Affairs'), ('News_Article', 'has_GPE', 'the United States'), ('News_Article', 'has_GPE', 'Qatar'), ('News_Article', 'has_GPE', 'India'), ('News_Article', 'has_GPE', 'India'), ('News_Article', 'has_ORG', 'DGCA'), ('News_Article', 'has_PERSON', 'Jammu-Srinagar'), ('News_Article', 'has_GPE', 'Jammu'), ('News_Article', 'has_GPE', 'Centre'), ('News_Article', 'has_PERSON', 'Sudhmahadev-Dranga'), ('News_Article', 'has_ORG', 'the Jammu-Srinagar NH'), ('News_Article', 'has_ORG', 'the Mughal Road'), ('News_Article', 'has_PERSON', 'Bigg Boss'), ('News_Article', 'has_PERSON', 'Sana Khan'), ('News_Article', 'has_PERSON', 'Sana Khan'), ('News_Article', 'has_PERSON', 'Bigg Boss'), ('News_Article', 'has_PERSON', 'Saeeda'), ('News_Article', 'has_PERSON', 'Sana'), ('News_Article', 'has_PERSON', 'Trump'), ('News_Article', 'has_GPE', 'Israel'), ('News_Article', 'has_GPE', 'Iran'), ('News_Article', 'has_PERSON', 'Donald Trump'), ('News_Article', 'has_GPE', 'Israel'), ('News_Article', 'has_GPE', 'Iran'), ('News_Article', 'has_GPE', 'Israel'), ('News_Article', 'has_GPE', 'Iran'), ('News_Article', 'has_ORG', 'Trump'), ('News_Article', 'has_ORG', 'Brandon Aiyuk'), ('News_Article', 'has_ORG', \"Percs' Brandon Aiyuk\"), ('News_Article', 'has_GPE', 'YouTube'), ('News_Article', 'has_PERSON', 'Mohammad'), ('News_Article', 'has_PERSON', 'Krishna'), ('News_Article', 'has_PERSON', 'Gill'), ('News_Article', 'has_PERSON', 'Shubman Gill'), ('News_Article', 'has_PERSON', 'Mohammed Siraj'), ('News_Article', 'has_GPE', 'England'), ('News_Article', 'has_PERSON', 'Gill'), ('News_Article', 'has_PERSON', \"Dilip Doshi's\"), ('News_Article', 'has_PERSON', 'Udaipur'), ('News_Article', 'has_ORG', 'FIR'), ('News_Article', 'has_PERSON', 'Udaipur'), ('News_Article', 'has_ORG', 'The Greek Farm'), ('News_Article', 'has_PERSON', 'Siddharth'), ('News_Article', 'has_PERSON', 'Amitabh Bachchan’s'), ('News_Article', 'has_PERSON', 'Sara'), ('News_Article', 'has_PERSON', 'Aditya'), ('News_Article', 'has_PERSON', 'Kartik'), ('News_Article', 'has_PERSON', 'Esha Gupta'), ('News_Article', 'has_PERSON', 'Sajid Khan  Aishwarya Rai Bachchan’s'), ('News_Article', 'has_ORG', 'Darsheel Safary'), ('News_Article', 'has_ORG', 'Qantas Airways'), ('News_Article', 'has_ORG', 'Hindalco'), ('News_Article', 'has_GPE', 'US'), ('News_Article', 'has_ORG', 'AluChem'), ('News_Article', 'has_ORG', 'KPIT Technologies'), ('News_Article', 'has_ORG', 'Rupee'), ('News_Article', 'has_GPE', 'Iran'), ('News_Article', 'has_GPE', 'Israel'), ('News_Article', 'has_ORG', 'IND'), ('News_Article', 'has_GPE', 'India'), ('News_Article', 'has_ORG', 'Headingley  IND vs ENG: History'), ('News_Article', 'has_PERSON', 'Ben Duckett'), ('News_Article', 'has_PERSON', \"Alastair Cook's\"), ('News_Article', 'has_ORG', 'Nightmare'), ('News_Article', 'has_PERSON', 'Yashasvi'), ('News_Article', 'has_ORG', 'Gambhir'), ('News_Article', 'has_PERSON', 'Mera'), ('News_Article', 'has_PERSON', 'Pant'), ('News_Article', 'has_ORG', 'Jadeja  Tensions'), ('News_Article', 'has_GPE', 'England'), ('News_Article', 'has_PERSON', 'Mohammad'), ('News_Article', 'has_PERSON', 'Krishna'), ('News_Article', 'has_PERSON', 'Gill'), ('News_Article', 'has_PERSON', 'Shoaib Ibrahim'), ('News_Article', 'has_PERSON', 'Dipika Kakar'), ('News_Article', 'has_PERSON', 'Ruhaan’s'), ('News_Article', 'has_PERSON', 'Ronit Roy'), ('News_Article', 'has_PERSON', 'Kyunki Saas Bhi Kabhi Bahu Thi'), ('News_Article', 'has_PERSON', 'Ram Kapoor'), ('News_Article', 'has_ORG', 'Neena Gupta'), ('News_Article', 'has_PERSON', 'Abhishek Kumar'), ('News_Article', 'has_ORG', 'Krushna Abhishek'), ('News_Article', 'has_PERSON', 'tumne bola'), ('News_Article', 'has_PERSON', 'Archana Puran'), ('News_Article', 'has_PERSON', 'Singh'), ('News_Article', 'has_PERSON', 'Mohabbatein'), ('News_Article', 'has_PERSON', 'Yash Raj’s'), ('News_Article', 'has_GPE', 'Switzerland'), ('News_Article', 'has_PERSON', 'Kapil Sharma'), ('News_Article', 'has_PERSON', 'Navjot Singh Sidhu')]\n"
          ]
        }
      ]
    },
    {
      "cell_type": "code",
      "source": [
        "from neo4j import GraphDatabase\n",
        "\n",
        "uri = \"bolt://localhost:7687\"\n",
        "driver = GraphDatabase.driver(uri, auth=(\"neo4j\", \"your_password\"))\n",
        "\n",
        "def insert_triple(tx, subj, pred, obj):\n",
        "    tx.run(\"MERGE (a:Entity {name: $subj}) \"\n",
        "           \"MERGE (b:Entity {name: $obj}) \"\n",
        "           \"MERGE (a)-[:%s]->(b)\" % pred, subj=subj, obj=obj)\n",
        "\n",
        "with driver.session() as session:\n",
        "    for s, p, o in triples:\n",
        "        session.write_transaction(insert_triple, s, p, o)\n"
      ],
      "metadata": {
        "colab": {
          "base_uri": "https://localhost:8080/",
          "height": 879
        },
        "id": "WFpSvwM-cB0l",
        "outputId": "939c492f-57cc-4790-f8ae-e6cd6ff6cf49"
      },
      "execution_count": null,
      "outputs": [
        {
          "output_type": "stream",
          "name": "stderr",
          "text": [
            "/tmp/ipython-input-14-2166473212.py:13: DeprecationWarning: write_transaction has been renamed to execute_write\n",
            "  session.write_transaction(insert_triple, s, p, o)\n",
            "WARNING:neo4j.pool:Transaction failed and will be retried in 1.050910515177899s (Couldn't connect to localhost:7687 (resolved to ('127.0.0.1:7687', '[::1]:7687')):\n",
            "Failed to establish connection to ResolvedIPv4Address(('127.0.0.1', 7687)) (reason [Errno 111] Connection refused)\n",
            "Failed to establish connection to ResolvedIPv6Address(('::1', 7687, 0, 0)) (reason [Errno 99] Cannot assign requested address))\n",
            "WARNING:neo4j.pool:Transaction failed and will be retried in 1.6752105742762349s (Couldn't connect to localhost:7687 (resolved to ('127.0.0.1:7687', '[::1]:7687')):\n",
            "Failed to establish connection to ResolvedIPv4Address(('127.0.0.1', 7687)) (reason [Errno 111] Connection refused)\n",
            "Failed to establish connection to ResolvedIPv6Address(('::1', 7687, 0, 0)) (reason [Errno 99] Cannot assign requested address))\n",
            "WARNING:neo4j.pool:Transaction failed and will be retried in 3.566211578110404s (Couldn't connect to localhost:7687 (resolved to ('127.0.0.1:7687', '[::1]:7687')):\n",
            "Failed to establish connection to ResolvedIPv4Address(('127.0.0.1', 7687)) (reason [Errno 111] Connection refused)\n",
            "Failed to establish connection to ResolvedIPv6Address(('::1', 7687, 0, 0)) (reason [Errno 99] Cannot assign requested address))\n",
            "WARNING:neo4j.pool:Transaction failed and will be retried in 7.365539228641186s (Couldn't connect to localhost:7687 (resolved to ('127.0.0.1:7687', '[::1]:7687')):\n",
            "Failed to establish connection to ResolvedIPv4Address(('127.0.0.1', 7687)) (reason [Errno 111] Connection refused)\n",
            "Failed to establish connection to ResolvedIPv6Address(('::1', 7687, 0, 0)) (reason [Errno 99] Cannot assign requested address))\n",
            "WARNING:neo4j.pool:Transaction failed and will be retried in 17.8059438511642s (Couldn't connect to localhost:7687 (resolved to ('127.0.0.1:7687', '[::1]:7687')):\n",
            "Failed to establish connection to ResolvedIPv4Address(('127.0.0.1', 7687)) (reason [Errno 111] Connection refused)\n",
            "Failed to establish connection to ResolvedIPv6Address(('::1', 7687, 0, 0)) (reason [Errno 99] Cannot assign requested address))\n"
          ]
        },
        {
          "output_type": "error",
          "ename": "ServiceUnavailable",
          "evalue": "Couldn't connect to localhost:7687 (resolved to ('127.0.0.1:7687', '[::1]:7687')):\nFailed to establish connection to ResolvedIPv4Address(('127.0.0.1', 7687)) (reason [Errno 111] Connection refused)\nFailed to establish connection to ResolvedIPv6Address(('::1', 7687, 0, 0)) (reason [Errno 99] Cannot assign requested address)",
          "traceback": [
            "\u001b[0;31m---------------------------------------------------------------------------\u001b[0m",
            "\u001b[0;31mConnectionRefusedError\u001b[0m                    Traceback (most recent call last)",
            "\u001b[0;32m/usr/local/lib/python3.11/dist-packages/neo4j/_async_compat/network/_bolt_socket.py\u001b[0m in \u001b[0;36m_connect_secure\u001b[0;34m(cls, resolved_address, timeout, keep_alive, ssl_context)\u001b[0m\n\u001b[1;32m    408\u001b[0m                 \u001b[0mlog\u001b[0m\u001b[0;34m.\u001b[0m\u001b[0mdebug\u001b[0m\u001b[0;34m(\u001b[0m\u001b[0;34m\"[#0000]  C: <OPEN> %s\"\u001b[0m\u001b[0;34m,\u001b[0m \u001b[0mresolved_address\u001b[0m\u001b[0;34m)\u001b[0m\u001b[0;34m\u001b[0m\u001b[0;34m\u001b[0m\u001b[0m\n\u001b[0;32m--> 409\u001b[0;31m                 \u001b[0ms\u001b[0m\u001b[0;34m.\u001b[0m\u001b[0mconnect\u001b[0m\u001b[0;34m(\u001b[0m\u001b[0mresolved_address\u001b[0m\u001b[0;34m)\u001b[0m\u001b[0;34m\u001b[0m\u001b[0;34m\u001b[0m\u001b[0m\n\u001b[0m\u001b[1;32m    410\u001b[0m                 \u001b[0ms\u001b[0m\u001b[0;34m.\u001b[0m\u001b[0msettimeout\u001b[0m\u001b[0;34m(\u001b[0m\u001b[0mt\u001b[0m\u001b[0;34m)\u001b[0m\u001b[0;34m\u001b[0m\u001b[0;34m\u001b[0m\u001b[0m\n",
            "\u001b[0;31mConnectionRefusedError\u001b[0m: [Errno 111] Connection refused",
            "\nThe above exception was the direct cause of the following exception:\n",
            "\u001b[0;31mServiceUnavailable\u001b[0m                        Traceback (most recent call last)",
            "\u001b[0;32m/usr/local/lib/python3.11/dist-packages/neo4j/_sync/io/_bolt_socket.py\u001b[0m in \u001b[0;36mconnect\u001b[0;34m(cls, address, tcp_timeout, deadline, custom_resolver, ssl_context, keep_alive)\u001b[0m\n\u001b[1;32m    327\u001b[0m             \u001b[0;32mtry\u001b[0m\u001b[0;34m:\u001b[0m\u001b[0;34m\u001b[0m\u001b[0;34m\u001b[0m\u001b[0m\n\u001b[0;32m--> 328\u001b[0;31m                 s = cls._connect_secure(\n\u001b[0m\u001b[1;32m    329\u001b[0m                     \u001b[0mresolved_address\u001b[0m\u001b[0;34m,\u001b[0m \u001b[0mtcp_timeout\u001b[0m\u001b[0;34m,\u001b[0m \u001b[0mkeep_alive\u001b[0m\u001b[0;34m,\u001b[0m \u001b[0mssl_context\u001b[0m\u001b[0;34m\u001b[0m\u001b[0;34m\u001b[0m\u001b[0m\n",
            "\u001b[0;32m/usr/local/lib/python3.11/dist-packages/neo4j/_async_compat/network/_bolt_socket.py\u001b[0m in \u001b[0;36m_connect_secure\u001b[0;34m(cls, resolved_address, timeout, keep_alive, ssl_context)\u001b[0m\n\u001b[1;32m    425\u001b[0m                 \u001b[0;32mif\u001b[0m \u001b[0misinstance\u001b[0m\u001b[0;34m(\u001b[0m\u001b[0merror\u001b[0m\u001b[0;34m,\u001b[0m \u001b[0mOSError\u001b[0m\u001b[0;34m)\u001b[0m\u001b[0;34m:\u001b[0m\u001b[0;34m\u001b[0m\u001b[0;34m\u001b[0m\u001b[0m\n\u001b[0;32m--> 426\u001b[0;31m                     raise ServiceUnavailable(\n\u001b[0m\u001b[1;32m    427\u001b[0m                         \u001b[0;34m\"Failed to establish connection to \"\u001b[0m\u001b[0;34m\u001b[0m\u001b[0;34m\u001b[0m\u001b[0m\n",
            "\u001b[0;31mServiceUnavailable\u001b[0m: Failed to establish connection to ResolvedIPv4Address(('127.0.0.1', 7687)) (reason [Errno 111] Connection refused)",
            "\nThe above exception was the direct cause of the following exception:\n",
            "\u001b[0;31mServiceUnavailable\u001b[0m                        Traceback (most recent call last)",
            "\u001b[0;32m/tmp/ipython-input-14-2166473212.py\u001b[0m in \u001b[0;36m<cell line: 0>\u001b[0;34m()\u001b[0m\n\u001b[1;32m     11\u001b[0m \u001b[0;32mwith\u001b[0m \u001b[0mdriver\u001b[0m\u001b[0;34m.\u001b[0m\u001b[0msession\u001b[0m\u001b[0;34m(\u001b[0m\u001b[0;34m)\u001b[0m \u001b[0;32mas\u001b[0m \u001b[0msession\u001b[0m\u001b[0;34m:\u001b[0m\u001b[0;34m\u001b[0m\u001b[0;34m\u001b[0m\u001b[0m\n\u001b[1;32m     12\u001b[0m     \u001b[0;32mfor\u001b[0m \u001b[0ms\u001b[0m\u001b[0;34m,\u001b[0m \u001b[0mp\u001b[0m\u001b[0;34m,\u001b[0m \u001b[0mo\u001b[0m \u001b[0;32min\u001b[0m \u001b[0mtriples\u001b[0m\u001b[0;34m:\u001b[0m\u001b[0;34m\u001b[0m\u001b[0;34m\u001b[0m\u001b[0m\n\u001b[0;32m---> 13\u001b[0;31m         \u001b[0msession\u001b[0m\u001b[0;34m.\u001b[0m\u001b[0mwrite_transaction\u001b[0m\u001b[0;34m(\u001b[0m\u001b[0minsert_triple\u001b[0m\u001b[0;34m,\u001b[0m \u001b[0ms\u001b[0m\u001b[0;34m,\u001b[0m \u001b[0mp\u001b[0m\u001b[0;34m,\u001b[0m \u001b[0mo\u001b[0m\u001b[0;34m)\u001b[0m\u001b[0;34m\u001b[0m\u001b[0;34m\u001b[0m\u001b[0m\n\u001b[0m",
            "\u001b[0;32m/usr/local/lib/python3.11/dist-packages/neo4j/_meta.py\u001b[0m in \u001b[0;36minner\u001b[0;34m(*args, **kwargs)\u001b[0m\n\u001b[1;32m    241\u001b[0m             \u001b[0;32mdef\u001b[0m \u001b[0minner\u001b[0m\u001b[0;34m(\u001b[0m\u001b[0;34m*\u001b[0m\u001b[0margs\u001b[0m\u001b[0;34m,\u001b[0m \u001b[0;34m**\u001b[0m\u001b[0mkwargs\u001b[0m\u001b[0;34m)\u001b[0m\u001b[0;34m:\u001b[0m\u001b[0;34m\u001b[0m\u001b[0;34m\u001b[0m\u001b[0m\n\u001b[1;32m    242\u001b[0m                 \u001b[0mwarning_func\u001b[0m\u001b[0;34m(\u001b[0m\u001b[0mmessage\u001b[0m\u001b[0;34m,\u001b[0m \u001b[0mstack_level\u001b[0m\u001b[0;34m=\u001b[0m\u001b[0;36m2\u001b[0m\u001b[0;34m)\u001b[0m\u001b[0;34m\u001b[0m\u001b[0;34m\u001b[0m\u001b[0m\n\u001b[0;32m--> 243\u001b[0;31m                 \u001b[0;32mreturn\u001b[0m \u001b[0mf\u001b[0m\u001b[0;34m(\u001b[0m\u001b[0;34m*\u001b[0m\u001b[0margs\u001b[0m\u001b[0;34m,\u001b[0m \u001b[0;34m**\u001b[0m\u001b[0mkwargs\u001b[0m\u001b[0;34m)\u001b[0m\u001b[0;34m\u001b[0m\u001b[0;34m\u001b[0m\u001b[0m\n\u001b[0m\u001b[1;32m    244\u001b[0m \u001b[0;34m\u001b[0m\u001b[0m\n\u001b[1;32m    245\u001b[0m             \u001b[0minner\u001b[0m\u001b[0;34m.\u001b[0m\u001b[0m_without_warning\u001b[0m \u001b[0;34m=\u001b[0m \u001b[0mf\u001b[0m\u001b[0;34m\u001b[0m\u001b[0;34m\u001b[0m\u001b[0m\n",
            "\u001b[0;32m/usr/local/lib/python3.11/dist-packages/neo4j/_sync/work/session.py\u001b[0m in \u001b[0;36mwrite_transaction\u001b[0;34m(self, transaction_function, *args, **kwargs)\u001b[0m\n\u001b[1;32m    846\u001b[0m             \u001b[0mMethod\u001b[0m \u001b[0mwas\u001b[0m \u001b[0mrenamed\u001b[0m \u001b[0mto\u001b[0m \u001b[0;34m:\u001b[0m\u001b[0mmeth\u001b[0m\u001b[0;34m:\u001b[0m\u001b[0;31m`\u001b[0m\u001b[0;34m.\u001b[0m\u001b[0mexecute_write\u001b[0m\u001b[0;31m`\u001b[0m\u001b[0;34m.\u001b[0m\u001b[0;34m\u001b[0m\u001b[0;34m\u001b[0m\u001b[0m\n\u001b[1;32m    847\u001b[0m         \"\"\"\n\u001b[0;32m--> 848\u001b[0;31m         return self._run_transaction(\n\u001b[0m\u001b[1;32m    849\u001b[0m             \u001b[0mWRITE_ACCESS\u001b[0m\u001b[0;34m,\u001b[0m\u001b[0;34m\u001b[0m\u001b[0;34m\u001b[0m\u001b[0m\n\u001b[1;32m    850\u001b[0m             \u001b[0mTelemetryAPI\u001b[0m\u001b[0;34m.\u001b[0m\u001b[0mTX_FUNC\u001b[0m\u001b[0;34m,\u001b[0m\u001b[0;34m\u001b[0m\u001b[0;34m\u001b[0m\u001b[0m\n",
            "\u001b[0;32m/usr/local/lib/python3.11/dist-packages/neo4j/_sync/work/session.py\u001b[0m in \u001b[0;36m_run_transaction\u001b[0;34m(self, access_mode, api, transaction_function, args, kwargs)\u001b[0m\n\u001b[1;32m    620\u001b[0m \u001b[0;34m\u001b[0m\u001b[0m\n\u001b[1;32m    621\u001b[0m         \u001b[0;32mif\u001b[0m \u001b[0merrors\u001b[0m\u001b[0;34m:\u001b[0m\u001b[0;34m\u001b[0m\u001b[0;34m\u001b[0m\u001b[0m\n\u001b[0;32m--> 622\u001b[0;31m             \u001b[0;32mraise\u001b[0m \u001b[0merrors\u001b[0m\u001b[0;34m[\u001b[0m\u001b[0;34m-\u001b[0m\u001b[0;36m1\u001b[0m\u001b[0;34m]\u001b[0m\u001b[0;34m\u001b[0m\u001b[0;34m\u001b[0m\u001b[0m\n\u001b[0m\u001b[1;32m    623\u001b[0m         \u001b[0;32melse\u001b[0m\u001b[0;34m:\u001b[0m\u001b[0;34m\u001b[0m\u001b[0;34m\u001b[0m\u001b[0m\n\u001b[1;32m    624\u001b[0m             \u001b[0;32mraise\u001b[0m \u001b[0mServiceUnavailable\u001b[0m\u001b[0;34m(\u001b[0m\u001b[0;34m\"Transaction failed\"\u001b[0m\u001b[0;34m)\u001b[0m\u001b[0;34m\u001b[0m\u001b[0;34m\u001b[0m\u001b[0m\n",
            "\u001b[0;32m/usr/local/lib/python3.11/dist-packages/neo4j/_sync/work/session.py\u001b[0m in \u001b[0;36m_run_transaction\u001b[0;34m(self, access_mode, api, transaction_function, args, kwargs)\u001b[0m\n\u001b[1;32m    570\u001b[0m         \u001b[0;32mwhile\u001b[0m \u001b[0;32mTrue\u001b[0m\u001b[0;34m:\u001b[0m\u001b[0;34m\u001b[0m\u001b[0;34m\u001b[0m\u001b[0m\n\u001b[1;32m    571\u001b[0m             \u001b[0;32mtry\u001b[0m\u001b[0;34m:\u001b[0m\u001b[0;34m\u001b[0m\u001b[0;34m\u001b[0m\u001b[0m\n\u001b[0;32m--> 572\u001b[0;31m                 self._open_transaction(\n\u001b[0m\u001b[1;32m    573\u001b[0m                     \u001b[0mtx_cls\u001b[0m\u001b[0;34m=\u001b[0m\u001b[0mManagedTransaction\u001b[0m\u001b[0;34m,\u001b[0m\u001b[0;34m\u001b[0m\u001b[0;34m\u001b[0m\u001b[0m\n\u001b[1;32m    574\u001b[0m                     \u001b[0mapi\u001b[0m\u001b[0;34m=\u001b[0m\u001b[0;32mNone\u001b[0m \u001b[0;32mif\u001b[0m \u001b[0mtelemetry_sent\u001b[0m \u001b[0;32melse\u001b[0m \u001b[0mapi\u001b[0m\u001b[0;34m,\u001b[0m\u001b[0;34m\u001b[0m\u001b[0;34m\u001b[0m\u001b[0m\n",
            "\u001b[0;32m/usr/local/lib/python3.11/dist-packages/neo4j/_sync/work/session.py\u001b[0m in \u001b[0;36m_open_transaction\u001b[0;34m(self, tx_cls, access_mode, api, metadata, timeout, api_success_cb)\u001b[0m\n\u001b[1;32m    439\u001b[0m         \u001b[0mapi_success_cb\u001b[0m\u001b[0;34m:\u001b[0m \u001b[0mt\u001b[0m\u001b[0;34m.\u001b[0m\u001b[0mCallable\u001b[0m\u001b[0;34m[\u001b[0m\u001b[0;34m[\u001b[0m\u001b[0mdict\u001b[0m\u001b[0;34m]\u001b[0m\u001b[0;34m,\u001b[0m \u001b[0;32mNone\u001b[0m\u001b[0;34m]\u001b[0m \u001b[0;34m|\u001b[0m \u001b[0;32mNone\u001b[0m \u001b[0;34m=\u001b[0m \u001b[0;32mNone\u001b[0m\u001b[0;34m,\u001b[0m\u001b[0;34m\u001b[0m\u001b[0;34m\u001b[0m\u001b[0m\n\u001b[1;32m    440\u001b[0m     ) -> None:\n\u001b[0;32m--> 441\u001b[0;31m         \u001b[0mself\u001b[0m\u001b[0;34m.\u001b[0m\u001b[0m_connect\u001b[0m\u001b[0;34m(\u001b[0m\u001b[0maccess_mode\u001b[0m\u001b[0;34m=\u001b[0m\u001b[0maccess_mode\u001b[0m\u001b[0;34m)\u001b[0m\u001b[0;34m\u001b[0m\u001b[0;34m\u001b[0m\u001b[0m\n\u001b[0m\u001b[1;32m    442\u001b[0m         \u001b[0;32massert\u001b[0m \u001b[0mself\u001b[0m\u001b[0;34m.\u001b[0m\u001b[0m_connection\u001b[0m \u001b[0;32mis\u001b[0m \u001b[0;32mnot\u001b[0m \u001b[0;32mNone\u001b[0m\u001b[0;34m\u001b[0m\u001b[0;34m\u001b[0m\u001b[0m\n\u001b[1;32m    443\u001b[0m         \u001b[0;32mif\u001b[0m \u001b[0mapi\u001b[0m \u001b[0;32mis\u001b[0m \u001b[0;32mnot\u001b[0m \u001b[0;32mNone\u001b[0m\u001b[0;34m:\u001b[0m\u001b[0;34m\u001b[0m\u001b[0;34m\u001b[0m\u001b[0m\n",
            "\u001b[0;32m/usr/local/lib/python3.11/dist-packages/neo4j/_sync/work/session.py\u001b[0m in \u001b[0;36m_connect\u001b[0;34m(self, access_mode, **acquire_kwargs)\u001b[0m\n\u001b[1;32m    134\u001b[0m             \u001b[0maccess_mode\u001b[0m \u001b[0;34m=\u001b[0m \u001b[0mself\u001b[0m\u001b[0;34m.\u001b[0m\u001b[0m_config\u001b[0m\u001b[0;34m.\u001b[0m\u001b[0mdefault_access_mode\u001b[0m\u001b[0;34m\u001b[0m\u001b[0;34m\u001b[0m\u001b[0m\n\u001b[1;32m    135\u001b[0m         \u001b[0;32mtry\u001b[0m\u001b[0;34m:\u001b[0m\u001b[0;34m\u001b[0m\u001b[0;34m\u001b[0m\u001b[0m\n\u001b[0;32m--> 136\u001b[0;31m             super()._connect(\n\u001b[0m\u001b[1;32m    137\u001b[0m                 \u001b[0maccess_mode\u001b[0m\u001b[0;34m,\u001b[0m \u001b[0mauth\u001b[0m\u001b[0;34m=\u001b[0m\u001b[0mself\u001b[0m\u001b[0;34m.\u001b[0m\u001b[0m_config\u001b[0m\u001b[0;34m.\u001b[0m\u001b[0mauth\u001b[0m\u001b[0;34m,\u001b[0m \u001b[0;34m**\u001b[0m\u001b[0macquire_kwargs\u001b[0m\u001b[0;34m\u001b[0m\u001b[0;34m\u001b[0m\u001b[0m\n\u001b[1;32m    138\u001b[0m             )\n",
            "\u001b[0;32m/usr/local/lib/python3.11/dist-packages/neo4j/_sync/work/workspace.py\u001b[0m in \u001b[0;36m_connect\u001b[0;34m(self, access_mode, auth, **acquire_kwargs)\u001b[0m\n\u001b[1;32m    197\u001b[0m         }\n\u001b[1;32m    198\u001b[0m         \u001b[0macquire_kwargs_\u001b[0m\u001b[0;34m.\u001b[0m\u001b[0mupdate\u001b[0m\u001b[0;34m(\u001b[0m\u001b[0macquire_kwargs\u001b[0m\u001b[0;34m)\u001b[0m\u001b[0;34m\u001b[0m\u001b[0;34m\u001b[0m\u001b[0m\n\u001b[0;32m--> 199\u001b[0;31m         \u001b[0mself\u001b[0m\u001b[0;34m.\u001b[0m\u001b[0m_connection\u001b[0m \u001b[0;34m=\u001b[0m \u001b[0mself\u001b[0m\u001b[0;34m.\u001b[0m\u001b[0m_pool\u001b[0m\u001b[0;34m.\u001b[0m\u001b[0macquire\u001b[0m\u001b[0;34m(\u001b[0m\u001b[0;34m**\u001b[0m\u001b[0macquire_kwargs_\u001b[0m\u001b[0;34m)\u001b[0m\u001b[0;34m\u001b[0m\u001b[0;34m\u001b[0m\u001b[0m\n\u001b[0m\u001b[1;32m    200\u001b[0m         if (\n\u001b[1;32m    201\u001b[0m             \u001b[0mtarget_db\u001b[0m\u001b[0;34m.\u001b[0m\u001b[0mguessed\u001b[0m\u001b[0;34m\u001b[0m\u001b[0;34m\u001b[0m\u001b[0m\n",
            "\u001b[0;32m/usr/local/lib/python3.11/dist-packages/neo4j/_sync/io/_pool.py\u001b[0m in \u001b[0;36macquire\u001b[0;34m(self, access_mode, timeout, database, bookmarks, auth, liveness_check_timeout, database_callback)\u001b[0m\n\u001b[1;32m    660\u001b[0m         )\n\u001b[1;32m    661\u001b[0m         \u001b[0mdeadline\u001b[0m \u001b[0;34m=\u001b[0m \u001b[0mDeadline\u001b[0m\u001b[0;34m.\u001b[0m\u001b[0mfrom_timeout_or_deadline\u001b[0m\u001b[0;34m(\u001b[0m\u001b[0mtimeout\u001b[0m\u001b[0;34m)\u001b[0m\u001b[0;34m\u001b[0m\u001b[0;34m\u001b[0m\u001b[0m\n\u001b[0;32m--> 662\u001b[0;31m         return self._acquire(\n\u001b[0m\u001b[1;32m    663\u001b[0m             \u001b[0mself\u001b[0m\u001b[0;34m.\u001b[0m\u001b[0maddress\u001b[0m\u001b[0;34m,\u001b[0m \u001b[0mauth\u001b[0m\u001b[0;34m,\u001b[0m \u001b[0mdeadline\u001b[0m\u001b[0;34m,\u001b[0m \u001b[0mliveness_check_timeout\u001b[0m\u001b[0;34m\u001b[0m\u001b[0;34m\u001b[0m\u001b[0m\n\u001b[1;32m    664\u001b[0m         )\n",
            "\u001b[0;32m/usr/local/lib/python3.11/dist-packages/neo4j/_sync/io/_pool.py\u001b[0m in \u001b[0;36m_acquire\u001b[0;34m(self, address, auth, deadline, liveness_check_timeout)\u001b[0m\n\u001b[1;32m    406\u001b[0m                     )\n\u001b[1;32m    407\u001b[0m         \u001b[0mlog\u001b[0m\u001b[0;34m.\u001b[0m\u001b[0mdebug\u001b[0m\u001b[0;34m(\u001b[0m\u001b[0;34m\"[#0000]  _: <POOL> trying to hand out new connection\"\u001b[0m\u001b[0;34m)\u001b[0m\u001b[0;34m\u001b[0m\u001b[0;34m\u001b[0m\u001b[0m\n\u001b[0;32m--> 408\u001b[0;31m         \u001b[0;32mreturn\u001b[0m \u001b[0mconnection_creator\u001b[0m\u001b[0;34m(\u001b[0m\u001b[0;34m)\u001b[0m\u001b[0;34m\u001b[0m\u001b[0;34m\u001b[0m\u001b[0m\n\u001b[0m\u001b[1;32m    409\u001b[0m \u001b[0;34m\u001b[0m\u001b[0m\n\u001b[1;32m    410\u001b[0m     \u001b[0;34m@\u001b[0m\u001b[0mabc\u001b[0m\u001b[0;34m.\u001b[0m\u001b[0mabstractmethod\u001b[0m\u001b[0;34m\u001b[0m\u001b[0;34m\u001b[0m\u001b[0m\n",
            "\u001b[0;32m/usr/local/lib/python3.11/dist-packages/neo4j/_sync/io/_pool.py\u001b[0m in \u001b[0;36mconnection_creator\u001b[0;34m()\u001b[0m\n\u001b[1;32m    228\u001b[0m             \u001b[0;32mtry\u001b[0m\u001b[0;34m:\u001b[0m\u001b[0;34m\u001b[0m\u001b[0;34m\u001b[0m\u001b[0m\n\u001b[1;32m    229\u001b[0m                 \u001b[0;32mtry\u001b[0m\u001b[0;34m:\u001b[0m\u001b[0;34m\u001b[0m\u001b[0;34m\u001b[0m\u001b[0m\n\u001b[0;32m--> 230\u001b[0;31m                     connection = self.opener(\n\u001b[0m\u001b[1;32m    231\u001b[0m                         \u001b[0maddress\u001b[0m\u001b[0;34m,\u001b[0m \u001b[0mauth\u001b[0m \u001b[0;32mor\u001b[0m \u001b[0mself\u001b[0m\u001b[0;34m.\u001b[0m\u001b[0mpool_config\u001b[0m\u001b[0;34m.\u001b[0m\u001b[0mauth\u001b[0m\u001b[0;34m,\u001b[0m \u001b[0mdeadline\u001b[0m\u001b[0;34m\u001b[0m\u001b[0;34m\u001b[0m\u001b[0m\n\u001b[1;32m    232\u001b[0m                     )\n",
            "\u001b[0;32m/usr/local/lib/python3.11/dist-packages/neo4j/_sync/io/_pool.py\u001b[0m in \u001b[0;36mopener\u001b[0;34m(addr, auth_manager, deadline)\u001b[0m\n\u001b[1;32m    622\u001b[0m \u001b[0;34m\u001b[0m\u001b[0m\n\u001b[1;32m    623\u001b[0m         \u001b[0;32mdef\u001b[0m \u001b[0mopener\u001b[0m\u001b[0;34m(\u001b[0m\u001b[0maddr\u001b[0m\u001b[0;34m,\u001b[0m \u001b[0mauth_manager\u001b[0m\u001b[0;34m,\u001b[0m \u001b[0mdeadline\u001b[0m\u001b[0;34m)\u001b[0m\u001b[0;34m:\u001b[0m\u001b[0;34m\u001b[0m\u001b[0;34m\u001b[0m\u001b[0m\n\u001b[0;32m--> 624\u001b[0;31m             return Bolt.open(\n\u001b[0m\u001b[1;32m    625\u001b[0m                 \u001b[0maddr\u001b[0m\u001b[0;34m,\u001b[0m\u001b[0;34m\u001b[0m\u001b[0;34m\u001b[0m\u001b[0m\n\u001b[1;32m    626\u001b[0m                 \u001b[0mauth_manager\u001b[0m\u001b[0;34m=\u001b[0m\u001b[0mauth_manager\u001b[0m\u001b[0;34m,\u001b[0m\u001b[0;34m\u001b[0m\u001b[0;34m\u001b[0m\u001b[0m\n",
            "\u001b[0;32m/usr/local/lib/python3.11/dist-packages/neo4j/_sync/io/_bolt.py\u001b[0m in \u001b[0;36mopen\u001b[0;34m(cls, address, auth_manager, deadline, routing_context, pool_config)\u001b[0m\n\u001b[1;32m    367\u001b[0m             \u001b[0mdeadline\u001b[0m \u001b[0;34m=\u001b[0m \u001b[0mDeadline\u001b[0m\u001b[0;34m(\u001b[0m\u001b[0;32mNone\u001b[0m\u001b[0;34m)\u001b[0m\u001b[0;34m\u001b[0m\u001b[0;34m\u001b[0m\u001b[0m\n\u001b[1;32m    368\u001b[0m \u001b[0;34m\u001b[0m\u001b[0m\n\u001b[0;32m--> 369\u001b[0;31m         s, protocol_version, handshake, data = BoltSocket.connect(\n\u001b[0m\u001b[1;32m    370\u001b[0m             \u001b[0maddress\u001b[0m\u001b[0;34m,\u001b[0m\u001b[0;34m\u001b[0m\u001b[0;34m\u001b[0m\u001b[0m\n\u001b[1;32m    371\u001b[0m             \u001b[0mtcp_timeout\u001b[0m\u001b[0;34m=\u001b[0m\u001b[0mpool_config\u001b[0m\u001b[0;34m.\u001b[0m\u001b[0mconnection_timeout\u001b[0m\u001b[0;34m,\u001b[0m\u001b[0;34m\u001b[0m\u001b[0;34m\u001b[0m\u001b[0m\n",
            "\u001b[0;32m/usr/local/lib/python3.11/dist-packages/neo4j/_sync/io/_bolt_socket.py\u001b[0m in \u001b[0;36mconnect\u001b[0;34m(cls, address, tcp_timeout, deadline, custom_resolver, ssl_context, keep_alive)\u001b[0m\n\u001b[1;32m    374\u001b[0m         \u001b[0;32melse\u001b[0m\u001b[0;34m:\u001b[0m\u001b[0;34m\u001b[0m\u001b[0;34m\u001b[0m\u001b[0m\n\u001b[1;32m    375\u001b[0m             \u001b[0merror_strs\u001b[0m \u001b[0;34m=\u001b[0m \u001b[0;34m\"\\n\"\u001b[0m\u001b[0;34m.\u001b[0m\u001b[0mjoin\u001b[0m\u001b[0;34m(\u001b[0m\u001b[0mmap\u001b[0m\u001b[0;34m(\u001b[0m\u001b[0mstr\u001b[0m\u001b[0;34m,\u001b[0m \u001b[0merrors\u001b[0m\u001b[0;34m)\u001b[0m\u001b[0;34m)\u001b[0m\u001b[0;34m\u001b[0m\u001b[0;34m\u001b[0m\u001b[0m\n\u001b[0;32m--> 376\u001b[0;31m             raise ServiceUnavailable(\n\u001b[0m\u001b[1;32m    377\u001b[0m                 \u001b[0;34mf\"Couldn't connect to {address} (resolved to {address_strs}):\"\u001b[0m\u001b[0;34m\u001b[0m\u001b[0;34m\u001b[0m\u001b[0m\n\u001b[1;32m    378\u001b[0m                 \u001b[0;34mf\"\\n{error_strs}\"\u001b[0m\u001b[0;34m\u001b[0m\u001b[0;34m\u001b[0m\u001b[0m\n",
            "\u001b[0;31mServiceUnavailable\u001b[0m: Couldn't connect to localhost:7687 (resolved to ('127.0.0.1:7687', '[::1]:7687')):\nFailed to establish connection to ResolvedIPv4Address(('127.0.0.1', 7687)) (reason [Errno 111] Connection refused)\nFailed to establish connection to ResolvedIPv6Address(('::1', 7687, 0, 0)) (reason [Errno 99] Cannot assign requested address)"
          ]
        }
      ]
    }
  ]
}
